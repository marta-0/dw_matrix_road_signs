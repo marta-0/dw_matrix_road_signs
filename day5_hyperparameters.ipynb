{
  "nbformat": 4,
  "nbformat_minor": 0,
  "metadata": {
    "colab": {
      "name": "day5_hyperparameters.ipynb",
      "provenance": [],
      "collapsed_sections": [],
      "mount_file_id": "1SJXMDL7ZAW091bonDZdgjUm9-L9Qfd0J",
      "authorship_tag": "ABX9TyMI05jh3maGwXVJedA30L2g"
    },
    "kernelspec": {
      "name": "python3",
      "display_name": "Python 3"
    },
    "accelerator": "GPU"
  },
  "cells": [
    {
      "cell_type": "markdown",
      "metadata": {
        "id": "8OH4wKqBOCdK",
        "colab_type": "text"
      },
      "source": [
        "# **Importing libraries and loading data**"
      ]
    },
    {
      "cell_type": "code",
      "metadata": {
        "id": "ubgHblPUL5DR",
        "colab_type": "code",
        "colab": {}
      },
      "source": [
        "#!pip install hyperopt"
      ],
      "execution_count": 0,
      "outputs": []
    },
    {
      "cell_type": "code",
      "metadata": {
        "id": "yYmyHENjNEv9",
        "colab_type": "code",
        "colab": {}
      },
      "source": [
        "import pandas as pd\n",
        "import numpy as np\n",
        "import os\n",
        "import datetime\n",
        "\n",
        "import tensorflow as tf\n",
        "from tensorflow.keras.models import Sequential\n",
        "from tensorflow.keras.layers import Conv2D, MaxPool2D, Dense, Flatten, Dropout\n",
        "from tensorflow.keras.utils import to_categorical\n",
        "\n",
        "%load_ext tensorboard\n",
        "\n",
        "import matplotlib.pyplot as plt\n",
        "from skimage import color, exposure\n",
        "\n",
        "from sklearn.metrics import accuracy_score\n",
        "\n",
        "from hyperopt import hp, STATUS_OK, tpe, Trials, fmin"
      ],
      "execution_count": 0,
      "outputs": []
    },
    {
      "cell_type": "code",
      "metadata": {
        "id": "mh25UZ5kNPBM",
        "colab_type": "code",
        "colab": {
          "base_uri": "https://localhost:8080/",
          "height": 34
        },
        "outputId": "4ab914a1-0368-4567-c87a-6632be518c39"
      },
      "source": [
        "cd '/content/drive/My Drive/Colab Notebooks/dw_matrix_road_signs'"
      ],
      "execution_count": 2,
      "outputs": [
        {
          "output_type": "stream",
          "text": [
            "/content/drive/My Drive/Colab Notebooks/dw_matrix_road_signs\n"
          ],
          "name": "stdout"
        }
      ]
    },
    {
      "cell_type": "code",
      "metadata": {
        "id": "BhOYot0aNSU1",
        "colab_type": "code",
        "colab": {}
      },
      "source": [
        "train = pd.read_pickle('data/train.p')\n",
        "test = pd.read_pickle('data/test.p')\n",
        "\n",
        "X_train, y_train = train['features'], train['labels']\n",
        "X_test, y_test = test['features'], test['labels']"
      ],
      "execution_count": 0,
      "outputs": []
    },
    {
      "cell_type": "code",
      "metadata": {
        "id": "-CnqWY_BNUTB",
        "colab_type": "code",
        "colab": {}
      },
      "source": [
        "if y_train.ndim == 1: y_train = to_categorical(y_train)\n",
        "if y_test.ndim == 1: y_test = to_categorical(y_test)\n",
        "\n",
        "input_shape = X_train.shape[1:]\n",
        "num_classes = y_train.shape[1]"
      ],
      "execution_count": 0,
      "outputs": []
    },
    {
      "cell_type": "markdown",
      "metadata": {
        "id": "Xbf4AbkPON46",
        "colab_type": "text"
      },
      "source": [
        "# **Convolutional neural network**"
      ]
    },
    {
      "cell_type": "code",
      "metadata": {
        "id": "EvStMWemNaLp",
        "colab_type": "code",
        "colab": {}
      },
      "source": [
        "def train_model(model, X_train, y_train, params_fit={}):\n",
        "  model.compile(loss='categorical_crossentropy', optimizer='Adam', metrics=['accuracy'])\n",
        "  \n",
        "  logdir = os.path.join(\"logs\", datetime.datetime.now().strftime(\"%Y%M%d-%H%M%S\"))\n",
        "  tensorboard_callback = tf.keras.callbacks.TensorBoard(logdir, histogram_freq=1)\n",
        "\n",
        "  model.fit(\n",
        "      X_train, \n",
        "      y_train,\n",
        "      batch_size=params_fit.get('batch_size', 128),\n",
        "      epochs=params_fit.get('epochs', 5),\n",
        "      verbose=params_fit.get('verbose', 1),\n",
        "      validation_data=params_fit.get('validation_data', (X_train, y_train)),\n",
        "      callbacks=[tensorboard_callback]\n",
        "  )\n",
        "  \n",
        "  return model\n",
        "\n",
        "\n",
        "def predict(model_trained, X_test, y_test, scoring=accuracy_score):\n",
        "  y_test_norm = np.argmax(y_test, axis=1)\n",
        "\n",
        "  y_pred_prob = model_trained.predict(X_test)\n",
        "  y_pred = np.argmax(y_pred_prob, axis=1)\n",
        "\n",
        "  return scoring(y_test_norm, y_pred)"
      ],
      "execution_count": 0,
      "outputs": []
    },
    {
      "cell_type": "code",
      "metadata": {
        "id": "xM7RBUQQNhuX",
        "colab_type": "code",
        "colab": {}
      },
      "source": [
        "def get_cnn_v5(input_shape, num_classes):\n",
        "  return Sequential([\n",
        "    Conv2D(filters=32, kernel_size=(3,3), activation='relu', input_shape=input_shape),\n",
        "    Conv2D(filters=32, kernel_size=(3,3), activation='relu', padding='same'),\n",
        "    MaxPool2D(),\n",
        "    Dropout(0.3),\n",
        "    \n",
        "    Conv2D(filters=64, kernel_size=(3,3), activation='relu', padding='same'),\n",
        "    Conv2D(filters=64, kernel_size=(3,3), activation='relu'),\n",
        "    MaxPool2D(),\n",
        "    Dropout(0.3),\n",
        "\n",
        "    Conv2D(filters=64, kernel_size=(3,3), activation='relu', padding='same'),\n",
        "    Conv2D(filters=64, kernel_size=(3,3), activation='relu'),\n",
        "    MaxPool2D(),\n",
        "    Dropout(0.3),\n",
        "\n",
        "    Flatten(),\n",
        "\n",
        "    Dense(1024, activation='relu'),\n",
        "    Dropout(0.3),\n",
        "\n",
        "    Dense(1024, activation='relu'),\n",
        "    Dropout(0.3),\n",
        "\n",
        "    Dense(num_classes, activation='softmax')\n",
        "  ])\n",
        "\n",
        "#get_cnn_v4(input_shape, num_classes).summary()"
      ],
      "execution_count": 0,
      "outputs": []
    },
    {
      "cell_type": "code",
      "metadata": {
        "id": "Lan97WNRNmdm",
        "colab_type": "code",
        "colab": {
          "base_uri": "https://localhost:8080/",
          "height": 204
        },
        "outputId": "ed46b599-5467-44de-947c-ab008ae28fde"
      },
      "source": [
        "model = get_cnn_v5(input_shape, num_classes)\n",
        "model_trained = train_model(model, X_train, y_train)\n",
        "\n",
        "predict(model_trained, X_test, y_test)"
      ],
      "execution_count": 7,
      "outputs": [
        {
          "output_type": "stream",
          "text": [
            "Epoch 1/5\n",
            "272/272 [==============================] - 13s 47ms/step - loss: 2.5090 - accuracy: 0.2874 - val_loss: 1.0376 - val_accuracy: 0.7003\n",
            "Epoch 2/5\n",
            "272/272 [==============================] - 12s 45ms/step - loss: 0.8128 - accuracy: 0.7382 - val_loss: 0.2420 - val_accuracy: 0.9251\n",
            "Epoch 3/5\n",
            "272/272 [==============================] - 12s 45ms/step - loss: 0.3638 - accuracy: 0.8838 - val_loss: 0.1215 - val_accuracy: 0.9667\n",
            "Epoch 4/5\n",
            "272/272 [==============================] - 12s 45ms/step - loss: 0.2428 - accuracy: 0.9268 - val_loss: 0.0656 - val_accuracy: 0.9791\n",
            "Epoch 5/5\n",
            "272/272 [==============================] - 12s 45ms/step - loss: 0.1924 - accuracy: 0.9405 - val_loss: 0.0416 - val_accuracy: 0.9881\n"
          ],
          "name": "stdout"
        },
        {
          "output_type": "execute_result",
          "data": {
            "text/plain": [
              "0.9714285714285714"
            ]
          },
          "metadata": {
            "tags": []
          },
          "execution_count": 7
        }
      ]
    },
    {
      "cell_type": "markdown",
      "metadata": {
        "id": "tj5FqsRIOU9b",
        "colab_type": "text"
      },
      "source": [
        "# **Hyperopt**"
      ]
    },
    {
      "cell_type": "code",
      "metadata": {
        "id": "D7q5Z9rDOvBZ",
        "colab_type": "code",
        "colab": {
          "base_uri": "https://localhost:8080/",
          "height": 51
        },
        "outputId": "6d68eaf6-2c53-4fe8-d749-b61874f696dc"
      },
      "source": [
        "model_trained.evaluate(X_test, y_test)[1]"
      ],
      "execution_count": 8,
      "outputs": [
        {
          "output_type": "stream",
          "text": [
            "138/138 [==============================] - 1s 6ms/step - loss: 0.1548 - accuracy: 0.9714\n"
          ],
          "name": "stdout"
        },
        {
          "output_type": "execute_result",
          "data": {
            "text/plain": [
              "0.9714285731315613"
            ]
          },
          "metadata": {
            "tags": []
          },
          "execution_count": 8
        }
      ]
    },
    {
      "cell_type": "code",
      "metadata": {
        "id": "8bwNbNqIN4g-",
        "colab_type": "code",
        "colab": {}
      },
      "source": [
        "def func_obj(params):\n",
        "  model = get_cnn_v5(input_shape, num_classes)\n",
        "  model.compile(loss='categorical_crossentropy', optimizer='Adam', metrics=['accuracy'])\n",
        "  \n",
        "  model.fit(\n",
        "      X_train, \n",
        "      y_train,\n",
        "      batch_size=int(params.get('batch_size', 128)),\n",
        "      epochs=7,\n",
        "      verbose=0,\n",
        "  )\n",
        "  \n",
        "  accuracy = model.evaluate(X_test, y_test)[0]\n",
        "  print(params, 'accuracy={}'.format(accuracy))\n",
        "\n",
        "  return {'loss': -accuracy, 'status': STATUS_OK, 'model': model}\n",
        "\n",
        "\n",
        "space = {\n",
        "    'batch_size': hp.quniform('batch_size', 50, 200, 20)\n",
        "}"
      ],
      "execution_count": 0,
      "outputs": []
    },
    {
      "cell_type": "code",
      "metadata": {
        "id": "hF9PiM0hPubu",
        "colab_type": "code",
        "colab": {
          "base_uri": "https://localhost:8080/",
          "height": 561
        },
        "outputId": "904f02c9-a607-428b-c16c-3bae3af45d85"
      },
      "source": [
        "best = fmin(\n",
        "    func_obj,\n",
        "    space,\n",
        "    tpe.suggest,\n",
        "    1,\n",
        "    Trials()\n",
        ")"
      ],
      "execution_count": 10,
      "outputs": [
        {
          "output_type": "stream",
          "text": [
            "  1/138 [..............................]\n",
            " - ETA: 0s - loss: 0.7629 - accuracy: 0.7500\n",
            "\b\b\b\b\b\b\b\b\b\b\b\b\b\b\b\b\b\b\b\b\b\b\b\b\b\b\b\b\b\b\b\b\b\b\b\b\b\b\b\b\b\b\b\b\b\b\b\b\b\b\b\b\b\b\b\b\b\b\b\b\b\b\b\b\b\b\b\b\b\b\b\b\b\b\b\b\b\b\b\b\b\b\b\b\n",
            "  7/138 [>.............................]\n",
            " - ETA: 0s - loss: 0.1231 - accuracy: 0.9598\n",
            "\b\b\b\b\b\b\b\b\b\b\b\b\b\b\b\b\b\b\b\b\b\b\b\b\b\b\b\b\b\b\b\b\b\b\b\b\b\b\b\b\b\b\b\b\b\b\b\b\b\b\b\b\b\b\b\b\b\b\b\b\b\b\b\b\b\b\b\b\b\b\b\b\b\b\b\b\b\b\b\b\b\b\b\b\n",
            " 12/138 [=>............................]\n",
            " - ETA: 1s - loss: 0.1136 - accuracy: 0.9557\n",
            "\b\b\b\b\b\b\b\b\b\b\b\b\b\b\b\b\b\b\b\b\b\b\b\b\b\b\b\b\b\b\b\b\b\b\b\b\b\b\b\b\b\b\b\b\b\b\b\b\b\b\b\b\b\b\b\b\b\b\b\b\b\b\b\b\b\b\b\b\b\b\b\b\b\b\b\b\b\b\b\b\b\b\b\b\n",
            " 19/138 [===>..........................]\n",
            " - ETA: 1s - loss: 0.2510 - accuracy: 0.9260\n",
            "\b\b\b\b\b\b\b\b\b\b\b\b\b\b\b\b\b\b\b\b\b\b\b\b\b\b\b\b\b\b\b\b\b\b\b\b\b\b\b\b\b\b\b\b\b\b\b\b\b\b\b\b\b\b\b\b\b\b\b\b\b\b\b\b\b\b\b\b\b\b\b\b\b\b\b\b\b\b\b\b\b\b\b\b\n",
            " 25/138 [====>.........................]\n",
            " - ETA: 0s - loss: 0.4091 - accuracy: 0.9025\n",
            "\b\b\b\b\b\b\b\b\b\b\b\b\b\b\b\b\b\b\b\b\b\b\b\b\b\b\b\b\b\b\b\b\b\b\b\b\b\b\b\b\b\b\b\b\b\b\b\b\b\b\b\b\b\b\b\b\b\b\b\b\b\b\b\b\b\b\b\b\b\b\b\b\b\b\b\b\b\b\b\b\b\b\b\b\n",
            " 29/138 [=====>........................]\n",
            " - ETA: 1s - loss: 0.3532 - accuracy: 0.9159\n",
            "\b\b\b\b\b\b\b\b\b\b\b\b\b\b\b\b\b\b\b\b\b\b\b\b\b\b\b\b\b\b\b\b\b\b\b\b\b\b\b\b\b\b\b\b\b\b\b\b\b\b\b\b\b\b\b\b\b\b\b\b\b\b\b\b\b\b\b\b\b\b\b\b\b\b\b\b\b\b\b\b\b\b\b\b\n",
            " 35/138 [======>.......................]\n",
            " - ETA: 0s - loss: 0.2969 - accuracy: 0.9286\n",
            "\b\b\b\b\b\b\b\b\b\b\b\b\b\b\b\b\b\b\b\b\b\b\b\b\b\b\b\b\b\b\b\b\b\b\b\b\b\b\b\b\b\b\b\b\b\b\b\b\b\b\b\b\b\b\b\b\b\b\b\b\b\b\b\b\b\b\b\b\b\b\b\b\b\b\b\b\b\b\b\b\b\b\b\b\n",
            " 40/138 [=======>......................]\n",
            " - ETA: 0s - loss: 0.2601 - accuracy: 0.9375\n",
            "\b\b\b\b\b\b\b\b\b\b\b\b\b\b\b\b\b\b\b\b\b\b\b\b\b\b\b\b\b\b\b\b\b\b\b\b\b\b\b\b\b\b\b\b\b\b\b\b\b\b\b\b\b\b\b\b\b\b\b\b\b\b\b\b\b\b\b\b\b\b\b\b\b\b\b\b\b\b\b\b\b\b\b\b\n",
            " 45/138 [========>.....................]\n",
            " - ETA: 0s - loss: 0.2576 - accuracy: 0.9368\n",
            "\b\b\b\b\b\b\b\b\b\b\b\b\b\b\b\b\b\b\b\b\b\b\b\b\b\b\b\b\b\b\b\b\b\b\b\b\b\b\b\b\b\b\b\b\b\b\b\b\b\b\b\b\b\b\b\b\b\b\b\b\b\b\b\b\b\b\b\b\b\b\b\b\b\b\b\b\b\b\b\b\b\b\b\b\n",
            " 50/138 [=========>....................]\n",
            " - ETA: 0s - loss: 0.2831 - accuracy: 0.9281\n",
            "\b\b\b\b\b\b\b\b\b\b\b\b\b\b\b\b\b\b\b\b\b\b\b\b\b\b\b\b\b\b\b\b\b\b\b\b\b\b\b\b\b\b\b\b\b\b\b\b\b\b\b\b\b\b\b\b\b\b\b\b\b\b\b\b\b\b\b\b\b\b\b\b\b\b\b\b\b\b\b\b\b\b\b\b\n",
            " 55/138 [==========>...................]\n",
            " - ETA: 0s - loss: 0.2612 - accuracy: 0.9330\n",
            "\b\b\b\b\b\b\b\b\b\b\b\b\b\b\b\b\b\b\b\b\b\b\b\b\b\b\b\b\b\b\b\b\b\b\b\b\b\b\b\b\b\b\b\b\b\b\b\b\b\b\b\b\b\b\b\b\b\b\b\b\b\b\b\b\b\b\b\b\b\b\b\b\b\b\b\b\b\b\b\b\b\b\b\b\n",
            " 60/138 [============>.................]\n",
            " - ETA: 0s - loss: 0.2452 - accuracy: 0.9375\n",
            "\b\b\b\b\b\b\b\b\b\b\b\b\b\b\b\b\b\b\b\b\b\b\b\b\b\b\b\b\b\b\b\b\b\b\b\b\b\b\b\b\b\b\b\b\b\b\b\b\b\b\b\b\b\b\b\b\b\b\b\b\b\b\b\b\b\b\b\b\b\b\b\b\b\b\b\b\b\b\b\b\b\b\b\b\n",
            " 65/138 [=============>................]\n",
            " - ETA: 0s - loss: 0.2326 - accuracy: 0.9399\n",
            "\b\b\b\b\b\b\b\b\b\b\b\b\b\b\b\b\b\b\b\b\b\b\b\b\b\b\b\b\b\b\b\b\b\b\b\b\b\b\b\b\b\b\b\b\b\b\b\b\b\b\b\b\b\b\b\b\b\b\b\b\b\b\b\b\b\b\b\b\b\b\b\b\b\b\b\b\b\b\b\b\b\b\b\b\n",
            " 70/138 [==============>...............]\n",
            " - ETA: 0s - loss: 0.2190 - accuracy: 0.9438\n",
            "\b\b\b\b\b\b\b\b\b\b\b\b\b\b\b\b\b\b\b\b\b\b\b\b\b\b\b\b\b\b\b\b\b\b\b\b\b\b\b\b\b\b\b\b\b\b\b\b\b\b\b\b\b\b\b\b\b\b\b\b\b\b\b\b\b\b\b\b\b\b\b\b\b\b\b\b\b\b\b\b\b\b\b\b\n",
            " 75/138 [===============>..............]\n",
            " - ETA: 0s - loss: 0.2044 - accuracy: 0.9475\n",
            "\b\b\b\b\b\b\b\b\b\b\b\b\b\b\b\b\b\b\b\b\b\b\b\b\b\b\b\b\b\b\b\b\b\b\b\b\b\b\b\b\b\b\b\b\b\b\b\b\b\b\b\b\b\b\b\b\b\b\b\b\b\b\b\b\b\b\b\b\b\b\b\b\b\b\b\b\b\b\b\b\b\b\b\b\n",
            " 81/138 [================>.............]\n",
            " - ETA: 0s - loss: 0.1895 - accuracy: 0.9514\n",
            "\b\b\b\b\b\b\b\b\b\b\b\b\b\b\b\b\b\b\b\b\b\b\b\b\b\b\b\b\b\b\b\b\b\b\b\b\b\b\b\b\b\b\b\b\b\b\b\b\b\b\b\b\b\b\b\b\b\b\b\b\b\b\b\b\b\b\b\b\b\b\b\b\b\b\b\b\b\b\b\b\b\b\b\b\n",
            " 87/138 [=================>............]\n",
            " - ETA: 0s - loss: 0.1794 - accuracy: 0.9540\n",
            "\b\b\b\b\b\b\b\b\b\b\b\b\b\b\b\b\b\b\b\b\b\b\b\b\b\b\b\b\b\b\b\b\b\b\b\b\b\b\b\b\b\b\b\b\b\b\b\b\b\b\b\b\b\b\b\b\b\b\b\b\b\b\b\b\b\b\b\b\b\b\b\b\b\b\b\b\b\b\b\b\b\b\b\b\n",
            " 92/138 [===================>..........]\n",
            " - ETA: 0s - loss: 0.1703 - accuracy: 0.9562\n",
            "\b\b\b\b\b\b\b\b\b\b\b\b\b\b\b\b\b\b\b\b\b\b\b\b\b\b\b\b\b\b\b\b\b\b\b\b\b\b\b\b\b\b\b\b\b\b\b\b\b\b\b\b\b\b\b\b\b\b\b\b\b\b\b\b\b\b\b\b\b\b\b\b\b\b\b\b\b\b\b\b\b\b\b\b\n",
            " 97/138 [====================>.........]\n",
            " - ETA: 0s - loss: 0.1626 - accuracy: 0.9581\n",
            "\b\b\b\b\b\b\b\b\b\b\b\b\b\b\b\b\b\b\b\b\b\b\b\b\b\b\b\b\b\b\b\b\b\b\b\b\b\b\b\b\b\b\b\b\b\b\b\b\b\b\b\b\b\b\b\b\b\b\b\b\b\b\b\b\b\b\b\b\b\b\b\b\b\b\b\b\b\b\b\b\b\b\b\b\n",
            "102/138 [=====================>........]\n",
            " - ETA: 0s - loss: 0.1678 - accuracy: 0.9565\n",
            "\b\b\b\b\b\b\b\b\b\b\b\b\b\b\b\b\b\b\b\b\b\b\b\b\b\b\b\b\b\b\b\b\b\b\b\b\b\b\b\b\b\b\b\b\b\b\b\b\b\b\b\b\b\b\b\b\b\b\b\b\b\b\b\b\b\b\b\b\b\b\b\b\b\b\b\b\b\b\b\b\b\b\b\b\n",
            "107/138 [======================>.......]\n",
            " - ETA: 0s - loss: 0.1733 - accuracy: 0.9547\n",
            "\b\b\b\b\b\b\b\b\b\b\b\b\b\b\b\b\b\b\b\b\b\b\b\b\b\b\b\b\b\b\b\b\b\b\b\b\b\b\b\b\b\b\b\b\b\b\b\b\b\b\b\b\b\b\b\b\b\b\b\b\b\b\b\b\b\b\b\b\b\b\b\b\b\b\b\b\b\b\b\b\b\b\b\b\n",
            "112/138 [=======================>......]\n",
            " - ETA: 0s - loss: 0.1656 - accuracy: 0.9568\n",
            "\b\b\b\b\b\b\b\b\b\b\b\b\b\b\b\b\b\b\b\b\b\b\b\b\b\b\b\b\b\b\b\b\b\b\b\b\b\b\b\b\b\b\b\b\b\b\b\b\b\b\b\b\b\b\b\b\b\b\b\b\b\b\b\b\b\b\b\b\b\b\b\b\b\b\b\b\b\b\b\b\b\b\b\b\n",
            "118/138 [========================>.....]\n",
            " - ETA: 0s - loss: 0.1574 - accuracy: 0.9590\n",
            "\b\b\b\b\b\b\b\b\b\b\b\b\b\b\b\b\b\b\b\b\b\b\b\b\b\b\b\b\b\b\b\b\b\b\b\b\b\b\b\b\b\b\b\b\b\b\b\b\b\b\b\b\b\b\b\b\b\b\b\b\b\b\b\b\b\b\b\b\b\b\b\b\b\b\b\b\b\b\b\b\b\b\b\b\n",
            "124/138 [=========================>....]\n",
            " - ETA: 0s - loss: 0.1514 - accuracy: 0.9602\n",
            "\b\b\b\b\b\b\b\b\b\b\b\b\b\b\b\b\b\b\b\b\b\b\b\b\b\b\b\b\b\b\b\b\b\b\b\b\b\b\b\b\b\b\b\b\b\b\b\b\b\b\b\b\b\b\b\b\b\b\b\b\b\b\b\b\b\b\b\b\b\b\b\b\b\b\b\b\b\b\b\b\b\b\b\b\n",
            "129/138 [===========================>..]\n",
            " - ETA: 0s - loss: 0.1468 - accuracy: 0.9617\n",
            "\b\b\b\b\b\b\b\b\b\b\b\b\b\b\b\b\b\b\b\b\b\b\b\b\b\b\b\b\b\b\b\b\b\b\b\b\b\b\b\b\b\b\b\b\b\b\b\b\b\b\b\b\b\b\b\b\b\b\b\b\b\b\b\b\b\b\b\b\b\b\b\b\b\b\b\b\b\b\b\b\b\b\b\b\n",
            "134/138 [============================>.]\n",
            " - ETA: 0s - loss: 0.1415 - accuracy: 0.9632\n",
            "\b\b\b\b\b\b\b\b\b\b\b\b\b\b\b\b\b\b\b\b\b\b\b\b\b\b\b\b\b\b\b\b\b\b\b\b\b\b\b\b\b\b\b\b\b\b\b\b\b\b\b\b\b\b\b\b\b\b\b\b\b\b\b\b\b\b\b\b\b\b\b\b\b\b\b\b\b\b\b\b\b\b\b\b\n",
            "138/138 [==============================]\n",
            " - 1s 10ms/step - loss: 0.1443 - accuracy: 0.9626\n",
            "\n",
            "{'batch_size': 120.0}\n",
            "accuracy=0.14434930682182312\n",
            "100%|██████████| 1/1 [01:00<00:00, 60.28s/it, best loss: -0.14434930682182312]\n"
          ],
          "name": "stdout"
        }
      ]
    },
    {
      "cell_type": "markdown",
      "metadata": {
        "id": "uWrobsyZQz3L",
        "colab_type": "text"
      },
      "source": [
        "# **More detailed optimization**"
      ]
    },
    {
      "cell_type": "code",
      "metadata": {
        "id": "N3Vkk06jP5M0",
        "colab_type": "code",
        "colab": {}
      },
      "source": [
        "def get_model(params):\n",
        "  return Sequential([\n",
        "    Conv2D(filters=32, kernel_size=(3,3), activation='relu', input_shape=input_shape),\n",
        "    Conv2D(filters=32, kernel_size=(3,3), activation='relu', padding='same'),\n",
        "    MaxPool2D(),\n",
        "    Dropout(params['dropout_cnn_block_one']),\n",
        "    \n",
        "    Conv2D(filters=64, kernel_size=(3,3), activation='relu', padding='same'),\n",
        "    Conv2D(filters=64, kernel_size=(3,3), activation='relu'),\n",
        "    MaxPool2D(),\n",
        "    Dropout(params['dropout_cnn_block_two']),\n",
        "\n",
        "    Conv2D(filters=128, kernel_size=(3,3), activation='relu', padding='same'),\n",
        "    Conv2D(filters=128, kernel_size=(3,3), activation='relu'),\n",
        "    MaxPool2D(),\n",
        "    Dropout(params['dropout_cnn_block_three']),\n",
        "\n",
        "    Flatten(),\n",
        "\n",
        "    Dense(1024, activation='relu'),\n",
        "    Dropout(params['dropout_dense_block_one']),\n",
        "\n",
        "    Dense(1024, activation='relu'),\n",
        "    Dropout(params['dropout_dense_block_two']),\n",
        "\n",
        "    Dense(num_classes, activation='softmax')\n",
        "  ])"
      ],
      "execution_count": 0,
      "outputs": []
    },
    {
      "cell_type": "code",
      "metadata": {
        "id": "l452tTnsRkdJ",
        "colab_type": "code",
        "colab": {}
      },
      "source": [
        "def func_obj(params):\n",
        "  model = get_model(params)\n",
        "  model.compile(loss='categorical_crossentropy', optimizer='Adam', metrics=['accuracy'])\n",
        "  \n",
        "  model.fit(\n",
        "      X_train, \n",
        "      y_train,\n",
        "      batch_size=int(params.get('batch_size', 128)),\n",
        "      epochs=5,\n",
        "      verbose=0,\n",
        "  )\n",
        "  \n",
        "  score = model.evaluate(X_test, y_test, verbose=0)\n",
        "  accuracy = score[1]\n",
        "  print(params, 'accuracy={}'.format(accuracy))\n",
        "\n",
        "  return {'loss': -accuracy, 'status': STATUS_OK, 'model': model}\n",
        "\n",
        "\n",
        "space = {\n",
        "    'batch_size': hp.quniform('batch_size', 100, 200, 10),\n",
        "\n",
        "    'dropout_cnn_block_one': hp.uniform('dropout_cnn_block_one', 0.3, 0.5),\n",
        "    'dropout_cnn_block_two': hp.uniform('dropout_cnn_block_two', 0.3, 0.5),\n",
        "    'dropout_cnn_block_three': hp.uniform('dropout_cnn_block_three', 0.3, 0.5),\n",
        "\n",
        "    'dropout_dense_block_one': hp.uniform('dropout_dense_block_one', 0.3, 0.7),\n",
        "    'dropout_dense_block_two': hp.uniform('dropout_dense_block_two', 0.3, 0.7),\n",
        "}"
      ],
      "execution_count": 0,
      "outputs": []
    },
    {
      "cell_type": "code",
      "metadata": {
        "id": "HTW3pR-cSXk7",
        "colab_type": "code",
        "colab": {
          "base_uri": "https://localhost:8080/",
          "height": 1000
        },
        "outputId": "edcc7133-1c5a-4af9-8b76-328b484871b1"
      },
      "source": [
        "best = fmin(\n",
        "    func_obj,\n",
        "    space,\n",
        "    tpe.suggest,\n",
        "    30,\n",
        "    Trials()\n",
        ")"
      ],
      "execution_count": 15,
      "outputs": [
        {
          "output_type": "stream",
          "text": [
            "{'batch_size': 190.0, 'dropout_cnn_block_one': 0.3673199978399066, 'dropout_cnn_block_three': 0.4269546056136921, 'dropout_cnn_block_two': 0.3553521043456578, 'dropout_dense_block_one': 0.5926480472322768, 'dropout_dense_block_two': 0.425139294036324}\n",
            "accuracy=0.9131519198417664\n",
            "{'batch_size': 190.0, 'dropout_cnn_block_one': 0.3001180301959782, 'dropout_cnn_block_three': 0.3805809946542022, 'dropout_cnn_block_two': 0.39726194077659954, 'dropout_dense_block_one': 0.6193908769698965, 'dropout_dense_block_two': 0.39185374138714535}\n",
            "accuracy=0.940362811088562\n",
            "{'batch_size': 120.0, 'dropout_cnn_block_one': 0.407855352627824, 'dropout_cnn_block_three': 0.3760770218574634, 'dropout_cnn_block_two': 0.33685383042747546, 'dropout_dense_block_one': 0.5807086726002673, 'dropout_dense_block_two': 0.6734939306577797}\n",
            "accuracy=0.8512471914291382\n",
            "{'batch_size': 200.0, 'dropout_cnn_block_one': 0.3671827047223399, 'dropout_cnn_block_three': 0.3310318170535151, 'dropout_cnn_block_two': 0.34493002528081257, 'dropout_dense_block_one': 0.393400373873317, 'dropout_dense_block_two': 0.6883179484452243}\n",
            "accuracy=0.920181393623352\n",
            "{'batch_size': 150.0, 'dropout_cnn_block_one': 0.4147535872637188, 'dropout_cnn_block_three': 0.3166924486827126, 'dropout_cnn_block_two': 0.48084622061112964, 'dropout_dense_block_one': 0.6907334333471827, 'dropout_dense_block_two': 0.37798783587033213}\n",
            "accuracy=0.8816326260566711\n",
            "{'batch_size': 170.0, 'dropout_cnn_block_one': 0.32311674744361946, 'dropout_cnn_block_three': 0.414417606376515, 'dropout_cnn_block_two': 0.3047962011856656, 'dropout_dense_block_one': 0.4547886027873834, 'dropout_dense_block_two': 0.5321632106700754}\n",
            "accuracy=0.9496598839759827\n",
            "{'batch_size': 140.0, 'dropout_cnn_block_one': 0.3519676247642625, 'dropout_cnn_block_three': 0.4406496579344134, 'dropout_cnn_block_two': 0.3413659342796159, 'dropout_dense_block_one': 0.35524965110479817, 'dropout_dense_block_two': 0.36786481345384436}\n",
            "accuracy=0.963718831539154\n",
            "{'batch_size': 140.0, 'dropout_cnn_block_one': 0.34852728411001505, 'dropout_cnn_block_three': 0.49457275625333574, 'dropout_cnn_block_two': 0.4423749192898415, 'dropout_dense_block_one': 0.5625620346731917, 'dropout_dense_block_two': 0.537802716277282}\n",
            "accuracy=0.8941043019294739\n",
            "{'batch_size': 110.0, 'dropout_cnn_block_one': 0.4672473972625397, 'dropout_cnn_block_three': 0.48602520229874396, 'dropout_cnn_block_two': 0.47014590128316364, 'dropout_dense_block_one': 0.33136446657762464, 'dropout_dense_block_two': 0.5548264524721498}\n",
            "accuracy=0.902267575263977\n",
            "{'batch_size': 110.0, 'dropout_cnn_block_one': 0.38547733934040845, 'dropout_cnn_block_three': 0.30803666194711915, 'dropout_cnn_block_two': 0.3219296644893395, 'dropout_dense_block_one': 0.5076170127517646, 'dropout_dense_block_two': 0.6780537656990091}\n",
            "accuracy=0.9560090899467468\n",
            "{'batch_size': 140.0, 'dropout_cnn_block_one': 0.4203224413774169, 'dropout_cnn_block_three': 0.3805164972440419, 'dropout_cnn_block_two': 0.44810711085450783, 'dropout_dense_block_one': 0.5139916119264044, 'dropout_dense_block_two': 0.3561310683418333}\n",
            "accuracy=0.9612244963645935\n",
            "{'batch_size': 130.0, 'dropout_cnn_block_one': 0.3673581928832232, 'dropout_cnn_block_three': 0.3344336963084698, 'dropout_cnn_block_two': 0.31647741966057547, 'dropout_dense_block_one': 0.33067064169681865, 'dropout_dense_block_two': 0.37942838374896126}\n",
            "accuracy=0.9580498933792114\n",
            "{'batch_size': 110.0, 'dropout_cnn_block_one': 0.4919727427231322, 'dropout_cnn_block_three': 0.49714073378859674, 'dropout_cnn_block_two': 0.4670689673335214, 'dropout_dense_block_one': 0.557782168593667, 'dropout_dense_block_two': 0.6301353444572584}\n",
            "accuracy=0.736281156539917\n",
            "{'batch_size': 140.0, 'dropout_cnn_block_one': 0.4590183748291153, 'dropout_cnn_block_three': 0.46120853102319137, 'dropout_cnn_block_two': 0.4445613832473759, 'dropout_dense_block_one': 0.47056124446745184, 'dropout_dense_block_two': 0.5700855187763609}\n",
            "accuracy=0.8820861577987671\n",
            "{'batch_size': 130.0, 'dropout_cnn_block_one': 0.4190503264676, 'dropout_cnn_block_three': 0.3364796017923922, 'dropout_cnn_block_two': 0.3327581725083478, 'dropout_dense_block_one': 0.5320103765507499, 'dropout_dense_block_two': 0.6932164441204821}\n",
            "accuracy=0.8526077270507812\n",
            "{'batch_size': 110.0, 'dropout_cnn_block_one': 0.463377952979078, 'dropout_cnn_block_three': 0.4057591759116445, 'dropout_cnn_block_two': 0.4694074072367293, 'dropout_dense_block_one': 0.44633873132485447, 'dropout_dense_block_two': 0.5897399096090793}\n",
            "accuracy=0.8566893339157104\n",
            "{'batch_size': 130.0, 'dropout_cnn_block_one': 0.4676166870393945, 'dropout_cnn_block_three': 0.3520681754253033, 'dropout_cnn_block_two': 0.48778465197962784, 'dropout_dense_block_one': 0.6298963871644732, 'dropout_dense_block_two': 0.6725390379428132}\n",
            "accuracy=0.6773242354393005\n",
            "{'batch_size': 180.0, 'dropout_cnn_block_one': 0.3813091237025983, 'dropout_cnn_block_three': 0.4258146138253156, 'dropout_cnn_block_two': 0.4214137006919956, 'dropout_dense_block_one': 0.32232550557933376, 'dropout_dense_block_two': 0.6217101218039952}\n",
            "accuracy=0.9072562456130981\n",
            "{'batch_size': 190.0, 'dropout_cnn_block_one': 0.4888065447491541, 'dropout_cnn_block_three': 0.4215957276828718, 'dropout_cnn_block_two': 0.39456072039605594, 'dropout_dense_block_one': 0.6201700441921114, 'dropout_dense_block_two': 0.58933698201237}\n",
            "accuracy=0.7469387650489807\n",
            "{'batch_size': 140.0, 'dropout_cnn_block_one': 0.4371820354948811, 'dropout_cnn_block_three': 0.45283568134640984, 'dropout_cnn_block_two': 0.3527560997664419, 'dropout_dense_block_one': 0.4199498386394855, 'dropout_dense_block_two': 0.39454654571218684}\n",
            "accuracy=0.936734676361084\n",
            "{'batch_size': 160.0, 'dropout_cnn_block_one': 0.3390562632374187, 'dropout_cnn_block_three': 0.383315692322562, 'dropout_cnn_block_two': 0.3808948675044855, 'dropout_dense_block_one': 0.3928220084124517, 'dropout_dense_block_two': 0.30162852829303466}\n",
            "accuracy=0.9573696255683899\n",
            "{'batch_size': 160.0, 'dropout_cnn_block_one': 0.4380255791529984, 'dropout_cnn_block_three': 0.4443577986006252, 'dropout_cnn_block_two': 0.4239377748718603, 'dropout_dense_block_one': 0.363534740826809, 'dropout_dense_block_two': 0.3095021691436712}\n",
            "accuracy=0.9535147547721863\n",
            "{'batch_size': 150.0, 'dropout_cnn_block_one': 0.3261804914929582, 'dropout_cnn_block_three': 0.39515777646746697, 'dropout_cnn_block_two': 0.37339997198138947, 'dropout_dense_block_one': 0.4880890642014926, 'dropout_dense_block_two': 0.46744662194766506}\n",
            "accuracy=0.96417236328125\n",
            "{'batch_size': 160.0, 'dropout_cnn_block_one': 0.3039217111405683, 'dropout_cnn_block_three': 0.47345927961696294, 'dropout_cnn_block_two': 0.37369032218916315, 'dropout_dense_block_one': 0.3014736327444777, 'dropout_dense_block_two': 0.46927009519643836}\n",
            "accuracy=0.9428571462631226\n",
            "{'batch_size': 150.0, 'dropout_cnn_block_one': 0.3223003332052169, 'dropout_cnn_block_three': 0.35800967113380605, 'dropout_cnn_block_two': 0.3704862402806715, 'dropout_dense_block_one': 0.6929565977697167, 'dropout_dense_block_two': 0.4736748968150074}\n",
            "accuracy=0.9514739513397217\n",
            "{'batch_size': 170.0, 'dropout_cnn_block_one': 0.3431308204896712, 'dropout_cnn_block_three': 0.43581964076849056, 'dropout_cnn_block_two': 0.3024284747771981, 'dropout_dense_block_one': 0.36740738962602204, 'dropout_dense_block_two': 0.42952127628424214}\n",
            "accuracy=0.9598639607429504\n",
            "{'batch_size': 120.0, 'dropout_cnn_block_one': 0.31934768479402237, 'dropout_cnn_block_three': 0.39923533549510615, 'dropout_cnn_block_two': 0.3628486508104602, 'dropout_dense_block_one': 0.48468743908470147, 'dropout_dense_block_two': 0.33434367778365426}\n",
            "accuracy=0.9662131667137146\n",
            "{'batch_size': 120.0, 'dropout_cnn_block_one': 0.3183394358636757, 'dropout_cnn_block_three': 0.39504567498427184, 'dropout_cnn_block_two': 0.4093817717273081, 'dropout_dense_block_one': 0.46382983356136886, 'dropout_dense_block_two': 0.32771775848419926}\n",
            "accuracy=0.9369614720344543\n",
            "{'batch_size': 100.0, 'dropout_cnn_block_one': 0.3094556783167526, 'dropout_cnn_block_three': 0.36489649308648825, 'dropout_cnn_block_two': 0.36240749855314763, 'dropout_dense_block_one': 0.4843653298395545, 'dropout_dense_block_two': 0.4327122927152256}\n",
            "accuracy=0.9546485543251038\n",
            "{'batch_size': 100.0, 'dropout_cnn_block_one': 0.39069304602223975, 'dropout_cnn_block_three': 0.3999334447047866, 'dropout_cnn_block_two': 0.3897027411304131, 'dropout_dense_block_one': 0.531639598999091, 'dropout_dense_block_two': 0.5024078416796622}\n",
            "accuracy=0.9537414908409119\n",
            "100%|██████████| 30/30 [22:40<00:00, 45.35s/it, best loss: -0.9662131667137146]\n"
          ],
          "name": "stdout"
        }
      ]
    }
  ]
}